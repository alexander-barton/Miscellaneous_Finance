{
  "nbformat": 4,
  "nbformat_minor": 0,
  "metadata": {
    "colab": {
      "name": "APS1022_OptionPricing.ipynb",
      "provenance": [],
      "collapsed_sections": []
    },
    "kernelspec": {
      "name": "python3",
      "display_name": "Python 3"
    }
  },
  "cells": [
    {
      "cell_type": "code",
      "metadata": {
        "id": "__bqvy0dpGVH"
      },
      "source": [
        "import numpy as np\n",
        "import matplotlib.pyplot as plt\n",
        "import math\n",
        "import pandas as pd\n",
        "import itertools"
      ],
      "execution_count": null,
      "outputs": []
    },
    {
      "cell_type": "markdown",
      "metadata": {
        "id": "j1x_q4x_76bH"
      },
      "source": [
        "##Code for Monte Carlo pricing of options"
      ]
    },
    {
      "cell_type": "code",
      "metadata": {
        "id": "gDzv7LNPpLTE"
      },
      "source": [
        "def dS(St,mu,sig,dt):\n",
        "  \"\"\"Generates the change in the stock price\n",
        "  for Monte Carlo Simulation.\"\"\"\n",
        "\n",
        "  eps = np.random.normal(0,1,1)\n",
        "  return mu*St*dt + sig*St*eps*math.sqrt(dt)"
      ],
      "execution_count": null,
      "outputs": []
    },
    {
      "cell_type": "code",
      "metadata": {
        "id": "cvkzMJvuEHcJ"
      },
      "source": [
        "def StockEvo(S0,mu,sig,dt,T):\n",
        "  \"\"\"Generates a full time series for an underlying\n",
        "  asset.\"\"\"\n",
        "  St = []\n",
        "  St.append(S0)\n",
        "\n",
        "  N = int(T/dt)\n",
        "\n",
        "  for n in range(N):\n",
        "    delta = dS(St[-1],mu,sig,dt)\n",
        "    St.append(St[-1] + delta)\n",
        "\n",
        "  return St"
      ],
      "execution_count": null,
      "outputs": []
    },
    {
      "cell_type": "code",
      "metadata": {
        "id": "gPr7FmtKEgJn"
      },
      "source": [
        "def MonteCarlo(S0,mu,sig,dt,T,M):\n",
        "  \"\"\"Generates M different instances of\n",
        "  the evolution of an underlying asset.\"\"\"\n",
        "  \n",
        "  N = int(T/dt) + 1\n",
        "  results = np.zeros((M,N))\n",
        "  #split = (1-CI)/2\n",
        "\n",
        "  for m in range(M):\n",
        "    results[m,:] = StockEvo(S0,mu,sig,dt,T)\n",
        "  \n",
        "  #mean = np.mean(results,axis=0)\n",
        "  #UB = np.quantile(results,CI+split,axis=0)\n",
        "  #LB = np.quantile(results,split,axis=0)\n",
        "\n",
        "  return results"
      ],
      "execution_count": null,
      "outputs": []
    },
    {
      "cell_type": "code",
      "metadata": {
        "id": "CXKWJn0jZnoL"
      },
      "source": [
        "def AsianCall(Prices,K,CI):\n",
        "  \"\"\"Calculates the expected value at \n",
        "  maturity for an Asian call with strike\n",
        "  price K.\"\"\"\n",
        "\n",
        "  means = np.mean(Prices,axis=1)\n",
        "  call = np.maximum(means-K,0)\n",
        "\n",
        "  split = (1-CI)/2\n",
        "  LB, UB = np.quantile(call,[split,CI+split])\n",
        "\n",
        "  return (np.mean(call),UB,LB)"
      ],
      "execution_count": null,
      "outputs": []
    },
    {
      "cell_type": "code",
      "metadata": {
        "id": "0BXaVI1IyVAU"
      },
      "source": [
        "def AsianPut(Prices,K,CI):\n",
        "  \"\"\"Calculates the expected value at \n",
        "  maturity for an Asian put with strike\n",
        "  price K.\"\"\"\n",
        "  \n",
        "  means = np.mean(Prices,axis=1)\n",
        "  put = np.maximum(K-means,0)\n",
        "  split = (1-CI)/2\n",
        "  LB, UB = np.quantile(put,[split,CI+split])\n",
        "\n",
        "  return (np.mean(put),UB,LB)"
      ],
      "execution_count": null,
      "outputs": []
    },
    {
      "cell_type": "code",
      "metadata": {
        "id": "PDifxhFLyr3t"
      },
      "source": [
        "def LookbackCall(Prices,K,CI):\n",
        "  \"\"\"Calculates the expected value at \n",
        "  maturity for an Lookback call with strike\n",
        "  price K.\"\"\"\n",
        "  \n",
        "  maxs = np.max(Prices,axis=1)\n",
        "  call = np.maximum(maxs-K,0)\n",
        "\n",
        "  split = (1-CI)/2\n",
        "  LB, UB = np.quantile(call,[split,CI+split])\n",
        "\n",
        "  return (np.mean(call),UB,LB)"
      ],
      "execution_count": null,
      "outputs": []
    },
    {
      "cell_type": "code",
      "metadata": {
        "id": "Tp1-17wYyrvY"
      },
      "source": [
        "def LookbackPut(Prices,K,CI):\n",
        "  \"\"\"Calculates the expected value at \n",
        "  maturity for an Lookback put with strike\n",
        "  price K.\"\"\"\n",
        "  \n",
        "  mins = np.min(Prices,axis=1)\n",
        "  put = np.maximum(K-mins,0)\n",
        "  split = (1-CI)/2\n",
        "  LB, UB = np.quantile(put,[split,CI+split])\n",
        "\n",
        "  return (np.mean(put),UB,LB)"
      ],
      "execution_count": null,
      "outputs": []
    },
    {
      "cell_type": "code",
      "metadata": {
        "id": "Aa68UP0Fyrnl"
      },
      "source": [
        "def FloatLBCall(Prices,CI):\n",
        "  \"\"\"Calculates the expected value at \n",
        "  maturity for an Floating Lookback call \n",
        "  with strike price K.\"\"\"\n",
        "\n",
        "  mins = np.min(Prices,axis=1)\n",
        "  call = np.maximum(Prices[:,-1] - mins,0)\n",
        "\n",
        "  split = (1-CI)/2\n",
        "  LB, UB = np.quantile(call,[split,CI+split])\n",
        "\n",
        "  return (np.mean(call),UB,LB)"
      ],
      "execution_count": null,
      "outputs": []
    },
    {
      "cell_type": "code",
      "metadata": {
        "id": "TJoJnZehyrff"
      },
      "source": [
        "def FloatLBPut(Prices,CI):\n",
        "  \"\"\"Calculates the expected value at \n",
        "  maturity for an Floating Lookback put \n",
        "  with strike price K.\"\"\"\n",
        "  \n",
        "  maxs = np.max(Prices,axis=1)\n",
        "  put = np.maximum(maxs - Prices[:,-1],0)\n",
        "  split = (1-CI)/2\n",
        "  LB, UB = np.quantile(put,[split,CI+split])\n",
        "\n",
        "  return (np.mean(put),UB,LB)"
      ],
      "execution_count": null,
      "outputs": []
    },
    {
      "cell_type": "code",
      "metadata": {
        "id": "tsIs7hYEFyjJ"
      },
      "source": [
        "mu = 0.02\n",
        "sig = 0.25\n",
        "S0 = 100\n",
        "dt = 1/52\n",
        "T = 8/52\n",
        "M = 256\n",
        "\n",
        "np.random.seed(1992)\n",
        "#Generate 256 instances of the asset\n",
        "results= MonteCarlo(S0,mu,sig,dt,T,M)"
      ],
      "execution_count": null,
      "outputs": []
    },
    {
      "cell_type": "code",
      "metadata": {
        "id": "mBwogWFV0CkC"
      },
      "source": [
        "#Place everything into a dataframe\n",
        "funcs = {'Asian Call':AsianCall,'Asian Put': AsianPut, 'Lookback Call': LookbackCall,\\\n",
        "         'Lookback Put': LookbackPut, 'Floating Lookback Call': FloatLBCall,\\\n",
        "         'Floating Lookback Put': FloatLBPut}\n",
        "\n",
        "df_mature = pd.DataFrame(index=funcs.keys(),columns=['Monte Price'])\n",
        "for key in funcs.keys():\n",
        "\n",
        "  if 'Floating' in key:\n",
        "\n",
        "    mean,UB,LB = funcs[key](results,0.95)\n",
        "    df_mature.loc[key,'Monte Price'] = mean\n",
        "    #df_mature.loc[key,'LowerBound'] = LB\n",
        "    #df_mature.loc[key,'UpperBound'] = UB\n",
        "  else:\n",
        "    mean,UB,LB = funcs[key](results,105,0.95)\n",
        "    df_mature.loc[key,'Monte Price'] = mean\n",
        "    #df_mature.loc[key,'LowerBound'] = LB\n",
        "    #df_mature.loc[key,'UpperBound'] = UB\n",
        "\n",
        "    "
      ],
      "execution_count": null,
      "outputs": []
    },
    {
      "cell_type": "code",
      "metadata": {
        "id": "shh3G6HlwsrR"
      },
      "source": [
        "#Adjust the price at maturity to the present\n",
        "#value (discount rate)\n",
        "df_price = df_mature*math.exp(-mu*T)"
      ],
      "execution_count": null,
      "outputs": []
    },
    {
      "cell_type": "code",
      "metadata": {
        "id": "xCOQOvUAxc_O",
        "colab": {
          "base_uri": "https://localhost:8080/",
          "height": 237
        },
        "outputId": "1c817010-c792-48a1-be49-d7fdc64b5bef"
      },
      "source": [
        "df_price"
      ],
      "execution_count": null,
      "outputs": [
        {
          "output_type": "execute_result",
          "data": {
            "text/html": [
              "<div>\n",
              "<style scoped>\n",
              "    .dataframe tbody tr th:only-of-type {\n",
              "        vertical-align: middle;\n",
              "    }\n",
              "\n",
              "    .dataframe tbody tr th {\n",
              "        vertical-align: top;\n",
              "    }\n",
              "\n",
              "    .dataframe thead th {\n",
              "        text-align: right;\n",
              "    }\n",
              "</style>\n",
              "<table border=\"1\" class=\"dataframe\">\n",
              "  <thead>\n",
              "    <tr style=\"text-align: right;\">\n",
              "      <th></th>\n",
              "      <th>Monte Price</th>\n",
              "    </tr>\n",
              "  </thead>\n",
              "  <tbody>\n",
              "    <tr>\n",
              "      <th>Asian Call</th>\n",
              "      <td>0.564489</td>\n",
              "    </tr>\n",
              "    <tr>\n",
              "      <th>Asian Put</th>\n",
              "      <td>5.35272</td>\n",
              "    </tr>\n",
              "    <tr>\n",
              "      <th>Lookback Call</th>\n",
              "      <td>2.88549</td>\n",
              "    </tr>\n",
              "    <tr>\n",
              "      <th>Lookback Put</th>\n",
              "      <td>10.572</td>\n",
              "    </tr>\n",
              "    <tr>\n",
              "      <th>Floating Lookback Call</th>\n",
              "      <td>5.78106</td>\n",
              "    </tr>\n",
              "    <tr>\n",
              "      <th>Floating Lookback Put</th>\n",
              "      <td>5.93758</td>\n",
              "    </tr>\n",
              "  </tbody>\n",
              "</table>\n",
              "</div>"
            ],
            "text/plain": [
              "                       Monte Price\n",
              "Asian Call                0.564489\n",
              "Asian Put                  5.35272\n",
              "Lookback Call              2.88549\n",
              "Lookback Put                10.572\n",
              "Floating Lookback Call     5.78106\n",
              "Floating Lookback Put      5.93758"
            ]
          },
          "metadata": {
            "tags": []
          },
          "execution_count": 14
        }
      ]
    },
    {
      "cell_type": "markdown",
      "metadata": {
        "id": "0qILLrig70PM"
      },
      "source": [
        "##Code for binomial lattice pricing of options"
      ]
    },
    {
      "cell_type": "code",
      "metadata": {
        "id": "4S2uDxzjuXXY"
      },
      "source": [
        "def BinomialLattice(S0,mu,sig,dt,T):\n",
        "  \"\"\"Generates a binomial lattice.\"\"\"\n",
        "\n",
        "  u = math.exp(sig*math.sqrt(dt))\n",
        "  d = 1/u\n",
        "  #p = 0.5+ 0.5*(mu/sig)*math.sqrt(dt)\n",
        "\n",
        "  N = int(T/dt) + 1\n",
        "\n",
        "  tree = np.zeros((N,N))\n",
        "  tree[0,0] = S0\n",
        "  for n in range(1,N):\n",
        "    for j in range(n+1):\n",
        "      tree[j,n] = S0*u**(n-j)*d**j\n",
        "  \n",
        "  return tree"
      ],
      "execution_count": null,
      "outputs": []
    },
    {
      "cell_type": "code",
      "metadata": {
        "id": "-7Y4DxaGQiXh"
      },
      "source": [
        "def PlotBinomial(tree,dt,T,save=False,prices=[],early=[]):\n",
        "  \"\"\"Plots a binomial lattice generated\n",
        "  by the BinomialLattice func.\"\"\"\n",
        "\n",
        "  X = []\n",
        "  Y = []\n",
        "  t = np.arange(0,int(T/dt)+1,1)\n",
        "  labels = []\n",
        "  early_color = []\n",
        "\n",
        "  for n in range(int(T/dt)+1):\n",
        "\n",
        "    plt.plot(t[n:],tree[n,n:],'b--',alpha=0.5)\n",
        "    plt.plot(t[n:],tree.diagonal(n),'b--',alpha=0.5)\n",
        "\n",
        "    for j in range(n+1):\n",
        "      Y.append(tree[j,n])\n",
        "      X.append(t[n])\n",
        "      if prices:\n",
        "        labels.append(prices[int(T/dt)-n][j])\n",
        "      if early:\n",
        "        if (n,j) in early:\n",
        "          early_color.append('red')\n",
        "        else:\n",
        "          early_color.append('black')\n",
        "    \n",
        "  plt.scatter(X,Y)\n",
        "  if prices:\n",
        "    ax = plt.gca()\n",
        "    for n in range(len(labels)):\n",
        "      txt = np.round(labels[n],decimals=2)\n",
        "      if early:\n",
        "        ax.annotate(txt,(X[n],Y[n]),(X[n]+0.2,Y[n]-1),weight='bold',color=early_color[n])\n",
        "      else:\n",
        "        ax.annotate(txt,(X[n],Y[n]),(X[n]+0.2,Y[n]-1),weight='bold')\n",
        "\n",
        "  plt.grid()\n",
        "  plt.xlabel('Week')\n",
        "  plt.ylabel('Asset Price')\n",
        "  plt.xlim((-0.5,T/dt+1.5))\n",
        "  if save:\n",
        "    plt.savefig('tree.png')\n",
        "  else:\n",
        "    plt.show()\n"
      ],
      "execution_count": null,
      "outputs": []
    },
    {
      "cell_type": "code",
      "metadata": {
        "id": "GDVbzO-J6SkP"
      },
      "source": [
        "def BinomialPath(S0,mu,sig,dt,depth):\n",
        "  \"\"\"Generates the 2^N binomial paths for a\n",
        "  binomial lattice.  Used in pricing path \n",
        "  dependent options.\"\"\"\n",
        "  \n",
        "  u = math.exp(sig*math.sqrt(dt))\n",
        "  d = 1/u\n",
        "  N = 2**depth\n",
        "  path_geo = np.array(list(itertools.product([u,d],repeat=depth)))\n",
        "\n",
        "  paths = np.ones((N,1))* S0\n",
        "\n",
        "  for n in range(depth):\n",
        "    paths = np.hstack((paths,np.multiply(paths[:,-1].reshape(N,1)\\\n",
        "                                         ,path_geo[:,n].reshape(N,1))))\n",
        "  \n",
        "  return paths"
      ],
      "execution_count": null,
      "outputs": []
    },
    {
      "cell_type": "code",
      "metadata": {
        "id": "245zGRSqgism"
      },
      "source": [
        "def AsianCall_Lattice(Prices,K,mu,sig,dt):\n",
        "  \"\"\"Returns the present value of an \n",
        "  Asian call using the lattice method.\"\"\"\n",
        "  \n",
        "  u = math.exp(sig*math.sqrt(dt))\n",
        "  d = 1/u\n",
        "  p = (math.exp(mu*dt) - d)/(u-d)\n",
        "\n",
        "  final_value = np.maximum(np.mean(Prices,axis=1)-K,0)\n",
        "\n",
        "  N = int(np.log2(np.size(final_value)))\n",
        "  val_tree = [final_value]\n",
        "  for n in range(1,N):\n",
        "\n",
        "    temp = []\n",
        "    for j in range(2**(N-n)):\n",
        "      value = math.exp(-mu*dt)*\\\n",
        "      (p*val_tree[n-1][j*2]+(1-p)*val_tree[n-1][j*2+1])\n",
        "      temp.append(value)\n",
        "    \n",
        "    val_tree.append(np.array(temp))\n",
        "  \n",
        "  return math.exp(-mu*dt)*(p*val_tree[-1][0] + (1-p)*val_tree[-1][1])\n",
        "    "
      ],
      "execution_count": null,
      "outputs": []
    },
    {
      "cell_type": "code",
      "metadata": {
        "id": "z1aNav-blCsn"
      },
      "source": [
        "def AsianPut_Lattice(Prices,K,mu,sig,dt):\n",
        "  \"\"\"Returns the present value of an \n",
        "  Asian put using the lattice method.\"\"\"\n",
        "  u = math.exp(sig*math.sqrt(dt))\n",
        "  d = 1/u\n",
        "  p = (math.exp(mu*dt) - d)/(u-d)\n",
        "\n",
        "  final_value = np.maximum(K-np.mean(Prices,axis=1),0)\n",
        "\n",
        "  N = int(np.log2(np.size(final_value)))\n",
        "  val_tree = [final_value]\n",
        "  for n in range(1,N):\n",
        "\n",
        "    temp = []\n",
        "    for j in range(2**(N-n)):\n",
        "      value = math.exp(-mu*dt)*\\\n",
        "      (p*val_tree[n-1][j*2]+(1-p)*val_tree[n-1][j*2+1])\n",
        "      temp.append(value)\n",
        "    \n",
        "    val_tree.append(np.array(temp))\n",
        "  \n",
        "  return math.exp(-mu*dt)*(p*val_tree[-1][0] + (1-p)*val_tree[-1][1])"
      ],
      "execution_count": null,
      "outputs": []
    },
    {
      "cell_type": "code",
      "metadata": {
        "id": "dGp4JLLTlxLR"
      },
      "source": [
        "def LookbackCall_Lattice(Prices,K,mu,sig,dt):\n",
        "  \"\"\"Returns the present value of an \n",
        "  lookback call using the lattice method.\"\"\"\n",
        "\n",
        "  u = math.exp(sig*math.sqrt(dt))\n",
        "  d = 1/u\n",
        "  p = (math.exp(mu*dt) - d)/(u-d)\n",
        "\n",
        "  final_value = np.maximum(np.max(Prices,axis=1)-K,0)\n",
        "\n",
        "  N = int(np.log2(np.size(final_value)))\n",
        "  val_tree = [final_value]\n",
        "  for n in range(1,N):\n",
        "\n",
        "    temp = []\n",
        "    for j in range(2**(N-n)):\n",
        "      value = math.exp(-mu*dt)*\\\n",
        "      (p*val_tree[n-1][j*2]+(1-p)*val_tree[n-1][j*2+1])\n",
        "      temp.append(value)\n",
        "    \n",
        "    val_tree.append(np.array(temp))\n",
        "  \n",
        "  return math.exp(-mu*dt)*(p*val_tree[-1][0] + (1-p)*val_tree[-1][1])"
      ],
      "execution_count": null,
      "outputs": []
    },
    {
      "cell_type": "code",
      "metadata": {
        "id": "RO2GPA0vmIyF"
      },
      "source": [
        "def LookbackPut_Lattice(Prices,K,mu,sig,dt):\n",
        "  \"\"\"Returns the present value of an \n",
        "  lookback put using the lattice method.\"\"\"\n",
        "  \n",
        "  u = math.exp(sig*math.sqrt(dt))\n",
        "  d = 1/u\n",
        "  p = (math.exp(mu*dt) - d)/(u-d)\n",
        "\n",
        "  final_value = np.maximum(K-np.min(Prices,axis=1),0)\n",
        "\n",
        "  N = int(np.log2(np.size(final_value)))\n",
        "  val_tree = [final_value]\n",
        "  for n in range(1,N):\n",
        "\n",
        "    temp = []\n",
        "    for j in range(2**(N-n)):\n",
        "      value = math.exp(-mu*dt)*\\\n",
        "      (p*val_tree[n-1][j*2]+(1-p)*val_tree[n-1][j*2+1])\n",
        "      temp.append(value)\n",
        "    \n",
        "    val_tree.append(np.array(temp))\n",
        "  \n",
        "  return math.exp(-mu*dt)*(p*val_tree[-1][0] + (1-p)*val_tree[-1][1])"
      ],
      "execution_count": null,
      "outputs": []
    },
    {
      "cell_type": "code",
      "metadata": {
        "id": "oLuPUW96mPVG"
      },
      "source": [
        "def FloatLBCall_Lattice(Prices,mu,sig,dt):\n",
        "  \"\"\"Returns the present value of an floating\n",
        "  lookback call using the lattice method.\"\"\"\n",
        "  \n",
        "  u = math.exp(sig*math.sqrt(dt))\n",
        "  d = 1/u\n",
        "  p = (math.exp(mu*dt) - d)/(u-d)\n",
        "\n",
        "  final_value = np.maximum(Prices[:,-1]-np.min(Prices,axis=1),0)\n",
        "\n",
        "  N = int(np.log2(np.size(final_value)))\n",
        "  val_tree = [final_value]\n",
        "  for n in range(1,N):\n",
        "\n",
        "    temp = []\n",
        "    for j in range(2**(N-n)):\n",
        "      value = math.exp(-mu*dt)*\\\n",
        "      (p*val_tree[n-1][j*2]+(1-p)*val_tree[n-1][j*2+1])\n",
        "      temp.append(value)\n",
        "    \n",
        "    val_tree.append(np.array(temp))\n",
        "  \n",
        "  return math.exp(-mu*dt)*(p*val_tree[-1][0] + (1-p)*val_tree[-1][1])"
      ],
      "execution_count": null,
      "outputs": []
    },
    {
      "cell_type": "code",
      "metadata": {
        "id": "Ha4nFB6lnFJa"
      },
      "source": [
        "def FloatLBPut_Lattice(Prices,mu,sig,dt):\n",
        "  \"\"\"Returns the present value of an floating\n",
        "  lookback put using the lattice method.\"\"\"\n",
        "\n",
        "  u = math.exp(sig*math.sqrt(dt))\n",
        "  d = 1/u\n",
        "  p = (math.exp(mu*dt) - d)/(u-d)\n",
        "\n",
        "  final_value = np.maximum(np.max(Prices,axis=1)-Prices[:,-1],0)\n",
        "\n",
        "  N = int(np.log2(np.size(final_value)))\n",
        "  val_tree = [final_value]\n",
        "  for n in range(1,N):\n",
        "\n",
        "    temp = []\n",
        "    for j in range(2**(N-n)):\n",
        "      value = math.exp(-mu*dt)*\\\n",
        "      (p*val_tree[n-1][j*2]+(1-p)*val_tree[n-1][j*2+1])\n",
        "      temp.append(value)\n",
        "    \n",
        "    val_tree.append(np.array(temp))\n",
        "  \n",
        "  return math.exp(-mu*dt)*(p*val_tree[-1][0] + (1-p)*val_tree[-1][1])"
      ],
      "execution_count": null,
      "outputs": []
    },
    {
      "cell_type": "code",
      "metadata": {
        "id": "-70Ct9slcIWR"
      },
      "source": [
        "#results_lat = BinomialPath(100,0.02,0.25,1/52,8)\n",
        "results_lat = BinomialPath(S0,mu,sig,dt,int(T/dt))"
      ],
      "execution_count": null,
      "outputs": []
    },
    {
      "cell_type": "code",
      "metadata": {
        "id": "iybiFnYtn0t5"
      },
      "source": [
        "#Put the lattice valuations into the same dataframe\n",
        "funcs_lat = {'Asian Call':AsianCall_Lattice,'Asian Put': AsianPut_Lattice, 'Lookback Call': LookbackCall_Lattice,\\\n",
        "         'Lookback Put': LookbackPut_Lattice, 'Floating Lookback Call': FloatLBCall_Lattice,\\\n",
        "         'Floating Lookback Put': FloatLBPut_Lattice}\n",
        "depth = 9\n",
        "K = 105\n",
        "\n",
        "for key in funcs_lat.keys():\n",
        "\n",
        "  if 'Floating' in key:\n",
        "\n",
        "    mean = funcs_lat[key](results_lat,mu,sig,dt)\n",
        "    df_price.loc[key,'Lattice Price'] = mean\n",
        "  else:\n",
        "    mean = funcs_lat[key](results_lat,K,mu,sig,dt)\n",
        "    df_price.loc[key,'Lattice Price'] = mean"
      ],
      "execution_count": null,
      "outputs": []
    },
    {
      "cell_type": "markdown",
      "metadata": {
        "id": "CaFjoZW-7sAc"
      },
      "source": [
        "##Code for pricing American Puts (Both Monte Carlo and Lattice)"
      ]
    },
    {
      "cell_type": "code",
      "metadata": {
        "id": "qY1bzdLYA_8e"
      },
      "source": [
        "def SumOfPuts(Prices,j,K,theta):\n",
        "  \"\"\"Generates the sum of put values using\n",
        "  a given boundary theta.  Used in generating\n",
        "  American Put price for Monte Carlo methods.\"\"\"  \n",
        "\n",
        "  N = Prices.shape[0]\n",
        "  Z = np.zeros((N,))\n",
        "\n",
        "  for n in range(np.size(Z)):\n",
        "    St = Prices[n,j]\n",
        "    if St > theta:\n",
        "      St = np.min(Prices[n,j+1:])\n",
        "    Z[n] = np.max(K-St,0)\n",
        "  \n",
        "  return (1/N)*np.sum(Z)\n"
      ],
      "execution_count": null,
      "outputs": []
    },
    {
      "cell_type": "code",
      "metadata": {
        "id": "UOddLSytzeDR"
      },
      "source": [
        "def AmericanPut(Prices,K,S0,mu,sig,dt,T,M,return_boundary=False):\n",
        "  \"\"\"Evaluates the price of an American Put using monte\n",
        "  carlo generates Prices.  Estimates the boundary using monte \n",
        "  carlo methods as well.  Returns the estimated boundary if \n",
        "  specified.\"\"\"\n",
        "\n",
        "  #First we determine the decision boundary\n",
        "  decision_set = MonteCarlo(S0,mu,sig,dt,T,M)\n",
        "\n",
        "  N = decision_set.shape[1]\n",
        "  thetas = np.zeros((N,))\n",
        "  thetas[-1] = K\n",
        "\n",
        "  for j in np.arange(N-2,-1,-1):\n",
        "    thetas[j] = thetas[j+1]\n",
        "    theta_temp = thetas[j]\n",
        "    P = SumOfPuts(decision_set,j,K,theta_temp)\n",
        "\n",
        "    for i in range(decision_set.shape[0]):\n",
        "      St = decision_set[i,j]\n",
        "      if St < theta_temp:\n",
        "        Ptemp = SumOfPuts(decision_set,j,K,St)\n",
        "        if Ptemp > P:\n",
        "          P = Ptemp\n",
        "          theta_temp = St\n",
        "    \n",
        "    thetas[j] = theta_temp\n",
        "  \n",
        "\n",
        "  #Part 2 where we price the options\n",
        "  taus = np.zeros((Prices.shape[0],),dtype=int)\n",
        "  H = np.zeros((Prices.shape[0],))\n",
        "  for i in range(Prices.shape[0]):\n",
        "\n",
        "    #determine optimal stoping time for each simulation\n",
        "    j = 0\n",
        "    while True:\n",
        "      if Prices[i,j] <= thetas[j]:\n",
        "        taus[i] = j\n",
        "        break\n",
        "      j+=1\n",
        "      if j == N:\n",
        "        taus[i] = j-1\n",
        "        break\n",
        "    H[i] = np.maximum(K-Prices[i,taus[i]],0)\n",
        "  \n",
        "  if return_boundary:\n",
        "    return (np.mean(H),np.mean(taus),thetas)\n",
        "  else:\n",
        "    return (np.mean(H),np.mean(taus))\n"
      ],
      "execution_count": null,
      "outputs": []
    },
    {
      "cell_type": "code",
      "metadata": {
        "id": "nRqTUG00_-mU"
      },
      "source": [
        "def AmericanPut_Lattice(tree,K,mu,sig,dt,return_tree=False):\n",
        "  \"\"\"Evaluates an American Put price for a given binomial\n",
        "  tree (as given by the BinomialLattice func).  Will\n",
        "  return the entire price tree if specified.\"\"\"\n",
        "\n",
        "  u = math.exp(sig*math.sqrt(dt))\n",
        "  d = 1/u\n",
        "  p = (math.exp(mu*dt) - d)/(u-d)\n",
        "  early_exercise = []\n",
        "\n",
        "  depth = tree.shape[1]\n",
        "  option_values = np.maximum(K - tree,0)\n",
        "  val_tree = [option_values[:,-1]]\n",
        "  for n in range(depth-1):\n",
        "    temp = []\n",
        "\n",
        "    for j in range(np.size(val_tree[n])-1):\n",
        "      value = np.maximum(option_values[j,depth-(n+2)],p*val_tree[n][j]\\\n",
        "                     +(1-p)*val_tree[n][j+1])\n",
        "      temp.append(value)\n",
        "      if option_values[j,depth-(n+2)] > (p*val_tree[n][j]\\\n",
        "                     +(1-p)*val_tree[n][j+1]):\n",
        "        early_exercise.append((n+1,j))\n",
        "    val_tree.append(np.array(temp))\n",
        "  \n",
        "  if return_tree:\n",
        "    return val_tree, early_exercise\n",
        "  else:\n",
        "    return val_tree[-1][0]"
      ],
      "execution_count": null,
      "outputs": []
    },
    {
      "cell_type": "code",
      "metadata": {
        "id": "lU_lmmE3HXDM"
      },
      "source": [
        "tree = BinomialLattice(100,0.02,0.25,1/52,8/52)"
      ],
      "execution_count": null,
      "outputs": []
    },
    {
      "cell_type": "code",
      "metadata": {
        "id": "464RgnrnVuH8"
      },
      "source": [
        "price_tree,early_exercise = AmericanPut_Lattice(tree,105,0.02,0.25,1/52,return_tree=True)\n",
        "df_price.loc['American Put','Lattice Price'] = price_tree[-1][0]"
      ],
      "execution_count": null,
      "outputs": []
    },
    {
      "cell_type": "code",
      "metadata": {
        "id": "0JHQFCmFWDHN"
      },
      "source": [
        "put,opt_time,boundary = AmericanPut(results,105,100,0.02,0.25,1/52,8/52,256,return_boundary=True)"
      ],
      "execution_count": null,
      "outputs": []
    },
    {
      "cell_type": "code",
      "metadata": {
        "id": "ovmg-4nvfFhN"
      },
      "source": [
        "df_price.loc['American Put','Monte Price'] = put"
      ],
      "execution_count": null,
      "outputs": []
    },
    {
      "cell_type": "code",
      "metadata": {
        "id": "IygFkbexfMp8"
      },
      "source": [
        "df_price['Difference'] = df_price['Lattice Price'] - df_price['Monte Price']"
      ],
      "execution_count": null,
      "outputs": []
    },
    {
      "cell_type": "code",
      "metadata": {
        "id": "2ZgMsR5eruax"
      },
      "source": [
        "#Have to do this strange loop to round the values\n",
        "#God knows why\n",
        "\n",
        "for n in range(3):\n",
        "  for m in range(7):\n",
        "    df_price.iloc[m,n] = np.round(df_price.iloc[m,n],decimals=3)"
      ],
      "execution_count": null,
      "outputs": []
    },
    {
      "cell_type": "code",
      "metadata": {
        "id": "zBM1rj_Lx4LW",
        "colab": {
          "base_uri": "https://localhost:8080/",
          "height": 36
        },
        "outputId": "dec598ba-80d6-42ae-cb51-15ee5c247821"
      },
      "source": [
        "opt_time"
      ],
      "execution_count": null,
      "outputs": [
        {
          "output_type": "execute_result",
          "data": {
            "text/plain": [
              "7.33203125"
            ]
          },
          "metadata": {
            "tags": []
          },
          "execution_count": 45
        }
      ]
    },
    {
      "cell_type": "code",
      "metadata": {
        "id": "fwjR6sIHq_ES",
        "colab": {
          "base_uri": "https://localhost:8080/",
          "height": 269
        },
        "outputId": "c58b0173-6c19-4fa9-b649-44c4e7f85840"
      },
      "source": [
        "df_price"
      ],
      "execution_count": null,
      "outputs": [
        {
          "output_type": "execute_result",
          "data": {
            "text/html": [
              "<div>\n",
              "<style scoped>\n",
              "    .dataframe tbody tr th:only-of-type {\n",
              "        vertical-align: middle;\n",
              "    }\n",
              "\n",
              "    .dataframe tbody tr th {\n",
              "        vertical-align: top;\n",
              "    }\n",
              "\n",
              "    .dataframe thead th {\n",
              "        text-align: right;\n",
              "    }\n",
              "</style>\n",
              "<table border=\"1\" class=\"dataframe\">\n",
              "  <thead>\n",
              "    <tr style=\"text-align: right;\">\n",
              "      <th></th>\n",
              "      <th>Monte Price</th>\n",
              "      <th>Lattice Price</th>\n",
              "      <th>Difference</th>\n",
              "    </tr>\n",
              "  </thead>\n",
              "  <tbody>\n",
              "    <tr>\n",
              "      <th>Asian Call</th>\n",
              "      <td>0.564</td>\n",
              "      <td>0.625</td>\n",
              "      <td>0.061</td>\n",
              "    </tr>\n",
              "    <tr>\n",
              "      <th>Asian Put</th>\n",
              "      <td>5.353</td>\n",
              "      <td>5.456</td>\n",
              "      <td>0.103</td>\n",
              "    </tr>\n",
              "    <tr>\n",
              "      <th>Lookback Call</th>\n",
              "      <td>2.885</td>\n",
              "      <td>3.325</td>\n",
              "      <td>0.439</td>\n",
              "    </tr>\n",
              "    <tr>\n",
              "      <th>Lookback Put</th>\n",
              "      <td>10.572</td>\n",
              "      <td>11.016</td>\n",
              "      <td>0.444</td>\n",
              "    </tr>\n",
              "    <tr>\n",
              "      <th>Floating Lookback Call</th>\n",
              "      <td>5.781</td>\n",
              "      <td>6.339</td>\n",
              "      <td>0.558</td>\n",
              "    </tr>\n",
              "    <tr>\n",
              "      <th>Floating Lookback Put</th>\n",
              "      <td>5.938</td>\n",
              "      <td>6.293</td>\n",
              "      <td>0.355</td>\n",
              "    </tr>\n",
              "    <tr>\n",
              "      <th>American Put</th>\n",
              "      <td>6.589</td>\n",
              "      <td>6.901</td>\n",
              "      <td>0.312</td>\n",
              "    </tr>\n",
              "  </tbody>\n",
              "</table>\n",
              "</div>"
            ],
            "text/plain": [
              "                       Monte Price  Lattice Price Difference\n",
              "Asian Call                   0.564          0.625      0.061\n",
              "Asian Put                    5.353          5.456      0.103\n",
              "Lookback Call                2.885          3.325      0.439\n",
              "Lookback Put                10.572         11.016      0.444\n",
              "Floating Lookback Call       5.781          6.339      0.558\n",
              "Floating Lookback Put        5.938          6.293      0.355\n",
              "American Put                 6.589          6.901      0.312"
            ]
          },
          "metadata": {
            "tags": []
          },
          "execution_count": 35
        }
      ]
    },
    {
      "cell_type": "code",
      "metadata": {
        "id": "0UpE5qaifNQO",
        "colab": {
          "base_uri": "https://localhost:8080/",
          "height": 334
        },
        "outputId": "8b21b5f8-d4bd-45a9-8fc8-815d60c0d065"
      },
      "source": [
        "#Plotting of decision boundary for American Put\n",
        "#Option\n",
        "time = np.arange(0,9,1)\n",
        "plt.figure(figsize=(8,5))\n",
        "plt.plot(time,results[212,:],label='$S_1$')\n",
        "plt.plot(time,results[90,:],label='$S_2$')\n",
        "plt.plot(time,results[201,:],label='$S_3$')\n",
        "plt.plot(time,results[111,:],label='$S_4$')\n",
        "plt.plot(time,results[89,:],label='$S_5$')\n",
        "plt.plot(time,boundary,'k--',linewidth=3.0,label='Boundary')\n",
        "plt.xlabel('Week')\n",
        "plt.ylabel('Asset Price')\n",
        "plt.legend()\n",
        "plt.grid()\n",
        "plt.show()\n",
        "#plt.savefig('boundary.png')"
      ],
      "execution_count": null,
      "outputs": [
        {
          "output_type": "display_data",
          "data": {
            "image/png": "[encoded data removed]",
            "text/plain": [
              "<Figure size 576x360 with 1 Axes>"
            ]
          },
          "metadata": {
            "tags": [],
            "needs_background": "light"
          }
        }
      ]
    },
    {
      "cell_type": "code",
      "metadata": {
        "id": "tBvlCD6Ufy3Y",
        "colab": {
          "base_uri": "https://localhost:8080/",
          "height": 279
        },
        "outputId": "e83c8974-e232-4a8c-d566-32dd55fdd3f1"
      },
      "source": [
        "#Plotting of binomial tree\n",
        "#PlotBinomial(tree,dt,T,save=True)\n",
        "PlotBinomial(tree,dt,T)"
      ],
      "execution_count": null,
      "outputs": [
        {
          "output_type": "display_data",
          "data": {
            "image/png": "[encoded data removed]",
            "text/plain": [
              "<Figure size 432x288 with 1 Axes>"
            ]
          },
          "metadata": {
            "tags": [],
            "needs_background": "light"
          }
        }
      ]
    },
    {
      "cell_type": "code",
      "metadata": {
        "id": "W7QxBTEu60pr",
        "colab": {
          "base_uri": "https://localhost:8080/",
          "height": 279
        },
        "outputId": "a0db0f84-6051-49ce-86bb-32ff7ea870c6"
      },
      "source": [
        "#Plotting of price tree for American Put\n",
        "#PlotBinomial(tree,dt,T,save=True,prices=price_tree,early=early_exercise)\n",
        "PlotBinomial(tree,dt,T,prices=price_tree,early=early_exercise)"
      ],
      "execution_count": null,
      "outputs": [
        {
          "output_type": "display_data",
          "data": {
            "image/png": "[encoded data removed]",
            "text/plain": [
              "<Figure size 432x288 with 1 Axes>"
            ]
          },
          "metadata": {
            "tags": [],
            "needs_background": "light"
          }
        }
      ]
    },
    {
      "cell_type": "code",
      "metadata": {
        "id": "kae_s2PzsUBn",
        "colab": {
          "base_uri": "https://localhost:8080/",
          "height": 279
        },
        "outputId": "1ceb097e-e589-45b6-8f53-30fcc41ff2d8"
      },
      "source": [
        "\n",
        "#Plotting of example tree\n",
        "tree_ex = BinomialLattice(60,0.05,0.3,(1/52),(4/52))\n",
        "#PlotBinomial(tree_ex,dt,4/52,save=True)\n",
        "PlotBinomial(tree_ex,dt,4/52)"
      ],
      "execution_count": null,
      "outputs": [
        {
          "output_type": "display_data",
          "data": {
            "image/png": "[encoded data removed]",
            "text/plain": [
              "<Figure size 432x288 with 1 Axes>"
            ]
          },
          "metadata": {
            "tags": [],
            "needs_background": "light"
          }
        }
      ]
    },
    {
      "cell_type": "code",
      "metadata": {
        "id": "tbK_A3NxXpSU"
      },
      "source": [
        ""
      ],
      "execution_count": null,
      "outputs": []
    }
  ]
}